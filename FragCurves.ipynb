{
 "cells": [
  {
   "cell_type": "raw",
   "metadata": {},
   "source": [
    "<script>\n",
    "  function code_toggle() {\n",
    "    if (code_shown){\n",
    "      $('div.input').hide('500');\n",
    "      $('#toggleButton').val('Show Code')\n",
    "    } else {\n",
    "      $('div.input').show('500');\n",
    "      $('#toggleButton').val('Hide Code')\n",
    "    }\n",
    "    code_shown = !code_shown\n",
    "  }\n",
    "\n",
    "  $( document ).ready(function(){\n",
    "    code_shown=false;\n",
    "    $('div.input').hide()\n",
    "  });\n",
    "</script>\n",
    "<form action=\"javascript:code_toggle()\"><input type=\"submit\" id=\"toggleButton\" value=\"Show Code\"></form>"
   ]
  },
  {
   "cell_type": "markdown",
   "metadata": {},
   "source": [
    "<H1> <center>Fragility Curves</center> </H1>"
   ]
  },
  {
   "cell_type": "code",
   "execution_count": 1,
   "metadata": {},
   "outputs": [
    {
     "data": {
      "text/html": [
       "<script>requirejs.config({paths: { 'plotly': ['https://cdn.plot.ly/plotly-latest.min']},});if(!window.Plotly) {{require(['plotly'],function(plotly) {window.Plotly=plotly;});}}</script>"
      ],
      "text/vnd.plotly.v1+html": [
       "<script>requirejs.config({paths: { 'plotly': ['https://cdn.plot.ly/plotly-latest.min']},});if(!window.Plotly) {{require(['plotly'],function(plotly) {window.Plotly=plotly;});}}</script>"
      ]
     },
     "metadata": {},
     "output_type": "display_data"
    }
   ],
   "source": [
    "# Imports\n",
    "import os\n",
    "import math\n",
    "import ctypes\n",
    "from time import sleep\n",
    "from tkinter import ttk\n",
    "import tkinter as tk\n",
    "import tkinter.font as tkFont\n",
    "import tkinter.filedialog as fdlg\n",
    "import numpy  as np\n",
    "import matplotlib.pyplot as plt\n",
    "#%matplotlib notebook\n",
    "%matplotlib inline\n",
    "from scipy.stats import norm\n",
    "from scipy import fft, linspace\n",
    "from scipy.interpolate import spline\n",
    "import ipywidgets as widgets\n",
    "from ipywidgets import interact\n",
    "import plotly\n",
    "#import plotly.plotly as py\n",
    "#import plotly.graph_objs as go\n",
    "from plotly.offline import init_notebook_mode, iplot\n",
    "from plotly.graph_objs import *\n",
    "init_notebook_mode(connected=True)         # initiate notebook for offline plot"
   ]
  },
  {
   "cell_type": "markdown",
   "metadata": {},
   "source": [
    "## *Earthquake Recordings*\n",
    "11 ground motion records."
   ]
  },
  {
   "cell_type": "markdown",
   "metadata": {},
   "source": [
    "\n",
    "| No. |        Location       |    Date    | Database Code | Station Code | Repi (km) |  Mw  | PGA (m/s2) | Vs,30 (m/s) | Soil type (EC8) |   Fault mech.   |\n",
    "|:---:|:---------------------:|:----------:|:-------------:|:------------:|:---------:|:----:|:----------:|:-----------:|:---------------:|:---------------:|\n",
    "|  1  |       Tabas/Iran      |  16/9/1978 |    ESMD_59    |      DAY     |   12.00   | 7.35 |    3.16    |    826.00   |        A        |     Oblique     |\n",
    "|  2  | Montenegro/Montenegro |  15/4/1979 |   ISESD_223   |      ULA     |   21.00   | 6.90 |    1.77    |   1083.00   |        A        |      Thrust     |\n",
    "|  3  |    App.Lucano/Italy   |  9/9/1998  |   ITACA_614   |      LRS     |    9.80   | 5.60 |    1.62    |   1024.00   |        A        |      Normal     |\n",
    "|  4  |       Kobe/Japan      |  16/1/1995 |    NGA_1108   |      KBU     |   25.40   | 6.90 |    2.85    |   1043.00   |        A        |   Strike-Slip   |\n",
    "|  5  |  Sierra Madre/Mexico  |  28/6/1991 |    NGA_1645   |      MTW     |    6.46   | 5.61 |    2.71    |    821.69   |        A        |     Reverse     |\n",
    "|  6  |    Loma Prieta/USA    | 18/10/1989 |    NGA_3548   |      LEX     |   20.35   | 6.93 |    4.12    |   1070.34   |        A        | Reverse-Oblique |\n",
    "|  7  |  Whittier Narrows/USA |  1/10/1987 |    NGA_680    |      KRE     |   13.85   | 5.99 |    1.10    |    969.07   |        A        | Reverse-Oblique |\n",
    "|  8  |     Northridge/USA    |  17/1/1994 |    NGA_994    |      GPO     |   25.42   | 6.69 |    2.84    |   1015.88   |        A        |     Reverse     |\n",
    "|  9  |      Izmit/Turkey     |  17/8/1999 |  T-NSMP_1109  |     4101     |    3.40   | 7.60 |    1.65    |    826.11   |        A        |   Strike-Slip   |\n",
    "|  10 |   East Sicily/Italy   | 13/12/1990 |   ITACA_314   |      SRT     |   28.30   | 5.60 |    0.61    |    871.00   |        A        |   Strike-Slip   |\n",
    "|  11 | Western Tottori/Japan |  6/10/2000 |  KIK-Net_3775 |    SMNH10    |   31.37   | 6.60 |    1.55    |    967.27   |        A        |   Strike-Slip   |"
   ]
  },
  {
   "cell_type": "code",
   "execution_count": 2,
   "metadata": {
    "collapsed": true
   },
   "outputs": [],
   "source": [
    "# Load Ground Motions\n",
    "GM={}\n",
    "# Details\n",
    "# Location\n",
    "GM['Location']={}\n",
    "GM['Location'][1]='Tabas/Iran'\n",
    "GM['Location'][2]='Montenegro/Montenegro'\n",
    "GM['Location'][3]='App.Lucano/Italy'\n",
    "GM['Location'][4]='Kobe/Japan'\n",
    "GM['Location'][5]='Sierra Madre/Mexico'\n",
    "GM['Location'][6]='Loma Prieta/USA'\n",
    "GM['Location'][7]='Whittier Narrows/USA'\n",
    "GM['Location'][8]='Northridge/USA'\n",
    "GM['Location'][9]='Izmit/Turkey'\n",
    "GM['Location'][10]='East Sicily/Italy'\n",
    "GM['Location'][11]='Western Tottori/Japan'\n",
    "# Station\n",
    "GM['Station']={}\n",
    "GM['Station'][1]='DAY'\n",
    "GM['Station'][2]='ULA'\n",
    "GM['Station'][3]='LRS'\n",
    "GM['Station'][4]='KBU'\n",
    "GM['Station'][5]='MTW'\n",
    "GM['Station'][6]='LEX'\n",
    "GM['Station'][7]='KRE'\n",
    "GM['Station'][8]='GPO'\n",
    "GM['Station'][9]='4101'\n",
    "GM['Station'][10]='SRT'\n",
    "GM['Station'][11]='SMNH10'\n",
    "# Epicentral Distance [km]\n",
    "GM['EpicDist']={}\n",
    "GM['EpicDist'][1]=12.00\n",
    "GM['EpicDist'][2]=21.00\n",
    "GM['EpicDist'][3]=9.80\n",
    "GM['EpicDist'][4]=25.40\n",
    "GM['EpicDist'][5]=6.46\n",
    "GM['EpicDist'][6]=20.35\n",
    "GM['EpicDist'][7]=13.85\n",
    "GM['EpicDist'][8]=25.42\n",
    "GM['EpicDist'][9]=3.40\n",
    "GM['EpicDist'][10]=28.30\n",
    "GM['EpicDist'][11]=31.37\n",
    "# Magnitude Mw\n",
    "GM['Mw']={}\n",
    "GM['Mw'][1]=7.35\n",
    "GM['Mw'][2]=6.90\n",
    "GM['Mw'][3]=5.60\n",
    "GM['Mw'][4]=6.90\n",
    "GM['Mw'][5]=5.61\n",
    "GM['Mw'][6]=6.93\n",
    "GM['Mw'][7]=5.99\n",
    "GM['Mw'][8]=6.69\n",
    "GM['Mw'][9]=7.60\n",
    "GM['Mw'][10]=5.60\n",
    "GM['Mw'][11]=6.60\n",
    "# Vs at site [m/s]\n",
    "GM['Vs']={}\n",
    "GM['Vs'][1]=826.00\n",
    "GM['Vs'][2]=1083.00\n",
    "GM['Vs'][3]=1024.00\n",
    "GM['Vs'][4]=1043.00\n",
    "GM['Vs'][5]=821.69\n",
    "GM['Vs'][6]=1070.34\n",
    "GM['Vs'][7]=969.07\n",
    "GM['Vs'][8]=1015.88\n",
    "GM['Vs'][9]=826.11\n",
    "GM['Vs'][10]=871.00\n",
    "GM['Vs'][11]=967.27\n",
    "# EC8 soil type at site\n",
    "GM['EC8soil']={}\n",
    "GM['EC8soil'][1]='A'\n",
    "GM['EC8soil'][2]='A'\n",
    "GM['EC8soil'][3]='A'\n",
    "GM['EC8soil'][4]='A'\n",
    "GM['EC8soil'][5]='A'\n",
    "GM['EC8soil'][6]='A'\n",
    "GM['EC8soil'][7]='A'\n",
    "GM['EC8soil'][8]='A'\n",
    "GM['EC8soil'][9]='A'\n",
    "GM['EC8soil'][10]='A'\n",
    "GM['EC8soil'][11]='A'\n",
    "# Fault mechanism (RV: reverse; OB: oblique; SS: strike-slip; NM: normal; TH: thrust)\n",
    "GM['FaultMech']={}\n",
    "GM['FaultMech'][1]='OB'\n",
    "GM['FaultMech'][2]='TH'\n",
    "GM['FaultMech'][3]='NM'\n",
    "GM['FaultMech'][4]='SS'\n",
    "GM['FaultMech'][5]='RV'\n",
    "GM['FaultMech'][6]='RV-OB'\n",
    "GM['FaultMech'][7]='RV-OB'\n",
    "GM['FaultMech'][8]='RV'\n",
    "GM['FaultMech'][9]='SS'\n",
    "GM['FaultMech'][10]='SS'\n",
    "GM['FaultMech'][11]='SS'\n",
    "# Acceleration\n",
    "GM['Acc']={}\n",
    "GM['Acc'][1]='EQinp/Acc/ESMD_59_H1_acc.txt'\n",
    "GM['Acc'][2]='EQinp/Acc/ISESD_223_H1_acc.txt'\n",
    "GM['Acc'][3]='EQinp/Acc/ITACA_614_H1_acc.txt'\n",
    "GM['Acc'][4]='EQinp/Acc/NGA_1108_H1_acc.txt'\n",
    "GM['Acc'][5]='EQinp/Acc/NGA_1645_H1_acc.txt'\n",
    "GM['Acc'][6]='EQinp/Acc/NGA_3548_H1_acc.txt'\n",
    "GM['Acc'][7]='EQinp/Acc/NGA_680_H1_acc.txt'\n",
    "GM['Acc'][8]='EQinp/Acc/NGA_994_H1_acc.txt'\n",
    "GM['Acc'][9]='EQinp/Acc/T-NSMP_1109_H1_acc.txt'\n",
    "GM['Acc'][10]='EQinp/Acc/ITACA_314_H1_acc.txt'\n",
    "GM['Acc'][11]='EQinp/Acc/KIK-Net_3775_H1_acc.txt'\n",
    "# Velocity\n",
    "GM['Vel']={}\n",
    "GM['Vel'][1]='EQinp/Vel/ESMD_59_H1_vel.txt'\n",
    "GM['Vel'][2]='EQinp/Vel/ISESD_223_H1_vel.txt'\n",
    "GM['Vel'][3]='EQinp/Vel/ITACA_614_H1_vel.txt'\n",
    "GM['Vel'][4]='EQinp/Vel/NGA_1108_H1_vel.txt'\n",
    "GM['Vel'][5]='EQinp/Vel/NGA_1645_H1_vel.txt'\n",
    "GM['Vel'][6]='EQinp/Vel/NGA_3548_H1_vel.txt'\n",
    "GM['Vel'][7]='EQinp/Vel/NGA_680_H1_vel.txt'\n",
    "GM['Vel'][8]='EQinp/Vel/NGA_994_H1_vel.txt'\n",
    "GM['Vel'][9]='EQinp/Vel/T-NSMP_1109_H1_vel.txt'\n",
    "GM['Vel'][10]='EQinp/Vel/ITACA_314_H1_vel.txt'\n",
    "GM['Vel'][11]='EQinp/Vel/KIK-Net_3775_H1_vel.txt'\n",
    "\n",
    "PGA_EQ={}\n",
    "Len_EQ={}\n",
    "EQ_con={}\n",
    "for i in GM['Acc']:\n",
    "    EQ_temp=[]\n",
    "    with open(GM['Acc'][i],'r') as f:\n",
    "        for line in f:\n",
    "            string_list = line.split()\n",
    "            for field in string_list:\n",
    "                EQ_temp.append(float(field))\n",
    "    f.close()\n",
    "    EQ_con[i]=EQ_temp[1::2]"
   ]
  },
  {
   "cell_type": "code",
   "execution_count": 4,
   "metadata": {
    "scrolled": false
   },
   "outputs": [
    {
     "data": {
      "application/vnd.jupyter.widget-view+json": {
       "model_id": "81e5494413f64355a43719063c9e0279",
       "version_major": 2,
       "version_minor": 0
      },
      "text/plain": [
       "A Jupyter Widget"
      ]
     },
     "metadata": {},
     "output_type": "display_data"
    }
   ],
   "source": [
    "\n",
    "# Plot Ground Motions\n",
    "def GMplot(i):\n",
    "    t = np.arange(0.0,len(EQ_con[i]),1)\n",
    "    t=t/100.0\n",
    "    trace = Scatter(\n",
    "    x = t,\n",
    "    y = EQ_con[i]\n",
    "    );\n",
    "    data = [trace];\n",
    "    iplot(data, filename='basic-line');\n",
    "    return\n",
    "interact(GMplot, i=widgets.Dropdown(options={GM['Location'][1]: 1,GM['Location'][2]: 2,GM['Location'][3]: 3,GM['Location'][4]: 4,GM['Location'][5]: 5,\n",
    "                   GM['Location'][6]: 6,GM['Location'][7]: 7,GM['Location'][8]: 8,GM['Location'][9]: 9,GM['Location'][10]: 10,\n",
    "                   GM['Location'][11]: 11},description='Ground Motion:',style=dict(description_width='30%')));"
   ]
  },
  {
   "cell_type": "markdown",
   "metadata": {},
   "source": [
    "## *Response Spectra*\n"
   ]
  },
  {
   "cell_type": "code",
   "execution_count": null,
   "metadata": {
    "collapsed": true
   },
   "outputs": [],
   "source": []
  },
  {
   "cell_type": "markdown",
   "metadata": {
    "collapsed": true
   },
   "source": [
    "## *Fragility Curves*\n"
   ]
  }
 ],
 "metadata": {
  "kernelspec": {
   "display_name": "Python 3",
   "language": "python",
   "name": "python3"
  },
  "language_info": {
   "codemirror_mode": {
    "name": "ipython",
    "version": 3
   },
   "file_extension": ".py",
   "mimetype": "text/x-python",
   "name": "python",
   "nbconvert_exporter": "python",
   "pygments_lexer": "ipython3",
   "version": "3.6.3"
  }
 },
 "nbformat": 4,
 "nbformat_minor": 2
}
